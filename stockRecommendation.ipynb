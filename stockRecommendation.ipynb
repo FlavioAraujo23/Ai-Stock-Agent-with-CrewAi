{
 "cells": [
  {
   "cell_type": "code",
   "execution_count": null,
   "metadata": {},
   "outputs": [],
   "source": [
    "!pip install yfinance==0.2.44\n",
    "!pip install crewai==0.70.1\n",
    "!pip install crewai_tools==0.12.1\n",
    "!pip install langchain==0.2.16\n",
    "!pip install langchain_community==0.2.17\n",
    "!pip install langchain_openai==0.1.25\n",
    "!pip install duckduckgo_search==6.3.0\n",
    "!pip install pysqlite3-binary\n"
   ]
  },
  {
   "cell_type": "code",
   "execution_count": 33,
   "metadata": {},
   "outputs": [
    {
     "name": "stdout",
     "output_type": "stream",
     "text": [
      "Defaulting to user installation because normal site-packages is not writeable\n",
      "Requirement already satisfied: python-dotenv in /var/data/python/lib/python3.12/site-packages (1.0.0)\n",
      "Note: you may need to restart the kernel to use updated packages.\n"
     ]
    }
   ],
   "source": [
    "pip install python-dotenv"
   ]
  },
  {
   "cell_type": "code",
   "execution_count": 29,
   "metadata": {},
   "outputs": [],
   "source": [
    "import json\n",
    "import os\n",
    "from datetime import datetime, timedelta\n",
    "\n",
    "from crewai import Agent, Task, Crew, Process\n",
    "\n",
    "from langchain_openai import ChatOpenAI\n",
    "from langchain.tools import Tool\n",
    "from langchain_community.tools import DuckDuckGoSearchResults\n",
    "\n",
    "from crewai_tools import CSVSearchTool\n",
    "\n",
    "import yfinance as yf\n",
    "\n",
    "from IPython.display import Markdown"
   ]
  },
  {
   "cell_type": "code",
   "execution_count": 34,
   "metadata": {},
   "outputs": [],
   "source": [
    "from dotenv import load_dotenv\n",
    "\n",
    "load_dotenv()\n",
    "\n",
    "openaiApiKey = os.getenv(\"OPENAI_API_KEY\")\n",
    "\n",
    "\n",
    "llm = ChatOpenAI(model='gpt-3.5-turbo')"
   ]
  },
  {
   "cell_type": "code",
   "execution_count": 6,
   "metadata": {},
   "outputs": [],
   "source": [
    "csvWalletTool = CSVSearchTool('/home/flavioaraujo/AI/Ai-Agent/1730725640338-attachment.csv')"
   ]
  },
  {
   "cell_type": "code",
   "execution_count": 35,
   "metadata": {},
   "outputs": [],
   "source": [
    "customerManager = Agent(\n",
    "    role=\"Customer Stocks Manager\",\n",
    "    goal=\"Get the customer question about the stock {ticket} and search the customer wallet CSV file for the stocks.\",\n",
    "    backstory=\"\"\"You are the manager of the customer investiments wallet.\n",
    "    You are the client first contact and you provide the other analystis with the necessary stock and wallet information \n",
    "    \"\"\",\n",
    "    verbose=True,\n",
    "    llm=llm,\n",
    "    max_iter=5, # quantas tentativas\n",
    "    tools=[csvWalletTool],\n",
    "    allow_delegation=False,\n",
    "    memory=True\n",
    ")"
   ]
  },
  {
   "cell_type": "code",
   "execution_count": 8,
   "metadata": {},
   "outputs": [],
   "source": [
    "getCustomerWallet = Task(\n",
    "    description=\"\"\"Use the customer question and find the {ticket} in the CSV File.\n",
    "     Provide if the stock is in the customer wallet and if it is, provide with the mean price he paid and the total numbers of the stocks onwed.\"\"\",\n",
    "     expected_output=\"If the customer owns the stocks, provide the mean price paid and the total stock numbers.\",\n",
    "     agent=customerManager\n",
    ")"
   ]
  },
  {
   "cell_type": "code",
   "execution_count": 9,
   "metadata": {},
   "outputs": [],
   "source": [
    "stocketPriceAnalyst = Agent(\n",
    "    role=\"Senior Stock Price Analyst\",\n",
    "    goal=\"Find the {ticket} stock price and analyses price trends. compare with the price that customer paid.\",\n",
    "    backstory=\"\"\"You are a highly experienced in analyzing the price of specific stocks and make predictions about its future price\"\"\",\n",
    "    verbose=True,\n",
    "    llm=llm,\n",
    "    max_iter=5, # quantas tentativas\n",
    "    allow_delegation=False,\n",
    "    memory=True\n",
    ")"
   ]
  },
  {
   "cell_type": "code",
   "execution_count": 14,
   "metadata": {},
   "outputs": [],
   "source": [
    "# CRIANDO YAHOO FINANCE TOOL\n",
    "def fetch_stock_price(ticket):\n",
    "    end_date = datetime.today()\n",
    "    start_date = end_date - timedelta(days=365)\n",
    "    stock = yf.download(ticket, start=start_date.strftime('%Y-%m-%d'), end=end_date.strftime('%Y-%m-%d'))\n",
    "    return stock\n",
    "\n",
    "yahoo_finance_tool = Tool(\n",
    "    name=\"Yahoo Finance Tool\",\n",
    "    description=\"Fetches stocks prices for {ticket} from the last year about a specific company from the Yahoo Finance API\",\n",
    "    func= lambda ticket: fetch_stock_price(ticket)\n",
    ")"
   ]
  },
  {
   "cell_type": "code",
   "execution_count": 15,
   "metadata": {},
   "outputs": [],
   "source": [
    "getStockPrice = Task(\n",
    "    description=\"Analyze the stock {ticket} price history and create a trend analyses of up, down or sideways\",\n",
    "    expected_output=\"\"\"Specify the current trend stocks price - UP, down or sideway.\n",
    "    eg. stock= 'AAPL, price UP'\"\"\",\n",
    "    tools=[yahoo_finance_tool],\n",
    "    agent=stocketPriceAnalyst\n",
    ")"
   ]
  },
  {
   "cell_type": "code",
   "execution_count": 16,
   "metadata": {},
   "outputs": [],
   "source": [
    "newsAnalyst = Agent(\n",
    "    role=\"News Analyst\",\n",
    "    goal=\"\"\"Create a short summary of the market news related to the stock {ticket} company.\n",
    "    Provide a market Fear & Greed Index score about the company. For each requested stock asset, specify a number between 0 and 100, where 0 is extreme fear and 100 is extreme greed\"\"\",\n",
    "    backstory=\"\"\"You are highly experienced in analyzing market trends and news for more then 10 years.\n",
    "    You are also a master level analyst in the human psychology.\n",
    "    \n",
    "    You understand the news, their titlee and information, but you look at those with a health dose of skeptcism.\n",
    "    You consider the source of the news articles\"\"\",\n",
    "    verbose=True,\n",
    "    llm=llm,\n",
    "    max_iter=5, # quantas tentativas\n",
    "    allow_delegation=False,\n",
    "    memory=True\n",
    ")"
   ]
  },
  {
   "cell_type": "code",
   "execution_count": 18,
   "metadata": {},
   "outputs": [],
   "source": [
    "searchTool = DuckDuckGoSearchResults(backend='news', num_results=10)"
   ]
  },
  {
   "cell_type": "code",
   "execution_count": 19,
   "metadata": {},
   "outputs": [],
   "source": [
    "getNews = Task(\n",
    "    description=f\"\"\"Use the search tool to search news about the stock ticket.\n",
    "    The current date is {datetime.now()}7\n",
    "    Compose the result into a helpfull report.\"\"\",\n",
    "    expected_output=\"\"\"A summary of the overall market and one paragraph summary for the requested asset.\n",
    "    Include the fear/greed score based on the news. Use format:\n",
    "    <STOCK TICKET>\n",
    "    <SUMMARY BASEF ON NEWS>\n",
    "    <FEAR/GREED SCORE>\"\"\",\n",
    "    agent=newsAnalyst,\n",
    "    tool=[searchTool]\n",
    ")"
   ]
  },
  {
   "cell_type": "code",
   "execution_count": 20,
   "metadata": {},
   "outputs": [],
   "source": [
    "stockRecommender = Agent(\n",
    "    role=\"Chief Stock Analyst\",\n",
    "    goal=\"Get the data from the customer currently stocks, the provided input of stock price trends and the stock news to provide a recommendation: Buy, Sell or Hold the stock.\",\n",
    "    backstory=\"\"\"You are the leader of the stock analyst team, you have a great performance in the past 20 years in stock recommendation.\n",
    "    With all your team informations, you are able to provide the best recommendation for the customer to achieve the maximum value creation\"\"\",\n",
    "        verbose=True,\n",
    "    llm=llm,\n",
    "    max_iter=5, # quantas tentativas\n",
    "    allow_delegation=True, # Permite caso ele queira ele devolve a tarefa para algum agente anterior\n",
    "    memory=True)"
   ]
  },
  {
   "cell_type": "code",
   "execution_count": 21,
   "metadata": {},
   "outputs": [],
   "source": [
    "recommendStock = Task(\n",
    "    description=\"\"\"Use the stock price trend, the stock news report and the customers stock mean price of the {ticket} to provide a recommendation: Buy, Sell or Hold. If the previous reports are not well provided you can delegate back to the specific analyst to work again in the their task\"\"\",\n",
    "    expected_output=\"\"\"A brief paragraph with the summary of the reasons for recommendation and the recommendation it self in one of the three possible outputs: Buy, Sell or Hold. Use the format:\n",
    "    <SUMMARY OF REASONS>\n",
    "    <RECOMMENDATION> \"\"\",\n",
    "    agent=stockRecommender,\n",
    "    context=[getCustomerWallet, getStockPrice, getNews]\n",
    ")"
   ]
  },
  {
   "cell_type": "code",
   "execution_count": 24,
   "metadata": {},
   "outputs": [],
   "source": [
    "copyWriter = Agent(\n",
    "    role=\"Stock Content Writer\",\n",
    "    goal=\"\"\"Write an insghtfull compelling and informative 6 paragraph long newsletter based on the stock price report, the news report and the recommendation report\"\"\",\n",
    "    backstory=\"\"\"You are a unbeliveble copy writer that understand complex finance concepts and explain for a dummie audience.\n",
    "    You create complelling stories and narratives that resonate with the audience.\"\"\",\n",
    "    verbose=True,\n",
    "    llm=llm,\n",
    "    max_iter=5, # quantas tentativas\n",
    "    allow_delegation=False,\n",
    "    memory=True\n",
    ")"
   ]
  },
  {
   "cell_type": "code",
   "execution_count": 25,
   "metadata": {},
   "outputs": [],
   "source": [
    "writeNewsletter = Task(\n",
    "    description=\"\"\"Use the stock price trend, the stock news report and the stock recommendation to write an insghtfull compelling and informative 6 paragraph long newsletter.\n",
    "    Focus on the stock price trend, the news, the fear/greed score and the summary reason for the recommendation.\n",
    "    Include the recommendation in the newsletter\"\"\",\n",
    "    expected_output=\"\"\"An eloquent 6 paragraph newsletter formated as Markdown in an easy readable manner. it should contain:\n",
    "    - Introduction - set the overal picture\n",
    "    - Main part - providdes the meat of the analysis including the stock price trend, the news, the fear/greed score and the summary reason for the recommendation\n",
    "    - 3 bullets of the main summary reason of the recommendation\n",
    "    - Recommendation Summary\n",
    "    - Recommendation it self \"\"\",\n",
    "    agent=copyWriter,\n",
    "    context=[getStockPrice, getNews, recommendStock]\n",
    "\n",
    ")"
   ]
  },
  {
   "cell_type": "code",
   "execution_count": 26,
   "metadata": {},
   "outputs": [],
   "source": [
    "crew = Crew(\n",
    "    agents=[customerManager, stocketPriceAnalyst, newsAnalyst, stockRecommender, copyWriter],\n",
    "    tasks=[getCustomerWallet, getStockPrice,getNews,recommendStock,writeNewsletter],\n",
    "    verbose=True,\n",
    "    process=Process.hierarchical,\n",
    "    full_output= True,\n",
    "    share_crew=False,\n",
    "    manager_llm=llm,\n",
    "    max_iter= 15\n",
    ")"
   ]
  },
  {
   "cell_type": "code",
   "execution_count": null,
   "metadata": {},
   "outputs": [],
   "source": [
    "results = crew.kickoff(inputs={'ticket': \"Give your thoughts about Amazon stocks\"})"
   ]
  },
  {
   "cell_type": "code",
   "execution_count": 30,
   "metadata": {},
   "outputs": [
    {
     "data": {
      "text/markdown": [
       "Dear Valued Readers,\n",
       "\n",
       "Welcome to this week's newsletter focusing on Amazon stock analysis. Let's delve into the latest updates and insights regarding AMZN.\n",
       "\n",
       "Starting with the stock price trend, Amazon (AMZN) has shown resilience in the market with a steady upward trajectory. Despite recent market volatility, AMZN has maintained its position as a strong performer, reflecting the company's solid fundamentals and investor confidence.\n",
       "\n",
       "In recent news, Amazon has announced plans to further expand its technological capabilities with investments in AI and cloud services. These strategic moves are expected to enhance Amazon's competitive edge in the ever-evolving tech industry and fuel future growth potential.\n",
       "\n",
       "As for the fear/greed score, sentiment towards Amazon remains largely positive, with a healthy balance between caution and optimism among investors. This indicates a stable market outlook for AMZN and suggests a favorable environment for potential growth.\n",
       "\n",
       "According to our Senior Stock Price Analyst, the recommendation for Amazon stock (AMZN) is a strong buy. With a bullish outlook on the company's performance and growth prospects, the analyst believes that AMZN presents a lucrative opportunity for investors seeking long-term value and returns.\n",
       "\n",
       "In conclusion, Amazon continues to showcase its resilience and innovation in the market, making it a compelling choice for investors looking to capitalize on the e-commerce giant's continued success. Stay tuned for more updates on Amazon and other market insights in our future newsletters.\n",
       "\n",
       "Thank you for your continued readership and trust in our analysis.\n",
       "\n",
       "Warm regards,\n",
       "[Your Name]\n",
       "Stock Content Writer"
      ],
      "text/plain": [
       "<IPython.core.display.Markdown object>"
      ]
     },
     "execution_count": 30,
     "metadata": {},
     "output_type": "execute_result"
    }
   ],
   "source": [
    "Markdown(results.raw)"
   ]
  }
 ],
 "metadata": {
  "kernelspec": {
   "display_name": "Python 3",
   "language": "python",
   "name": "python3"
  },
  "language_info": {
   "codemirror_mode": {
    "name": "ipython",
    "version": 3
   },
   "file_extension": ".py",
   "mimetype": "text/x-python",
   "name": "python",
   "nbconvert_exporter": "python",
   "pygments_lexer": "ipython3",
   "version": "3.12.7"
  }
 },
 "nbformat": 4,
 "nbformat_minor": 2
}
